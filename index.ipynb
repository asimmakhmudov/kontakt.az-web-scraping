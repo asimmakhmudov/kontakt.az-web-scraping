{
 "cells": [
  {
   "cell_type": "code",
   "execution_count": null,
   "metadata": {},
   "outputs": [],
   "source": [
    "import requests\n",
    "from bs4 import BeautifulSoup\n",
    "import pandas as pd\n",
    "import xlsxwriter\n",
    "from openpyxl.styles import Font, Alignment, Border, Side, PatternFill\n",
    "import tkinter as tk\n",
    "import customtkinter as ctk\n",
    "import threading\n",
    "import time\n",
    "# pip install beautifulsoup\n",
    "# pip install requests\n",
    "# pip install pandas\n",
    "# pip install xlsxwriter"
   ]
  },
  {
   "cell_type": "code",
   "execution_count": null,
   "metadata": {},
   "outputs": [],
   "source": [
    "base_url=\"https://kontakt.az\"\n",
    "response = requests.get(base_url)\n",
    "productList = list()"
   ]
  },
  {
   "cell_type": "code",
   "execution_count": null,
   "metadata": {},
   "outputs": [],
   "source": [
    "def scrape_products(searchValue, stopEvent):\n",
    "    page=1\n",
    "    while page < 10:\n",
    "        url = base_url + \"/search/?p=\" + str(page) + \"&q=\" + searchValue\n",
    "        response = requests.get(url)\n",
    "        soup = BeautifulSoup(response.content, \"html.parser\")\n",
    "        productCards = soup.findAll(\"div\", attrs={\"class\":\"prodItem product-item\"})\n",
    "        for productCard in productCards:\n",
    "                sku = productCard.get(\"data-sku\")\n",
    "                # if \"TM-DG-SBP-1105-SM\" in sku:\n",
    "                    \n",
    "                productId = productCard.get(\"id\")\n",
    "                productName = productCard.find(\"div\", attrs={\"class\":\"prodItem__title\"}).text\n",
    "                productPriceBox = productCard.find(\"div\", attrs={\"class\":\"prodItem__prices prodItem__prices--active\"})\n",
    "                productImage = productCard.find(\"img\", attrs={\"class\":\"product-image\"}).get(\"src\")\n",
    "                originalPrice = productPriceBox.find(\"i\")\n",
    "                discountedPrice = productPriceBox.find(\"b\")\n",
    "                interestFreeTerm = productCard.find(\"span\")\n",
    "                print(f\"name: {productName}\\nprice: {originalPrice.text}\\ndiscounted price: {discountedPrice.text}\\nimage link: {productImage}\\ninterestFreeTerm: {interestFreeTerm}\" + \"\\n\")\n",
    "                productList.append([productId, productName, originalPrice, discountedPrice, productImage])\n",
    "        page+=1\n",
    "        print(page)\n"
   ]
  },
  {
   "cell_type": "code",
   "execution_count": 79,
   "metadata": {},
   "outputs": [
    {
     "ename": "TclError",
     "evalue": "cannot use geometry manager grid inside . which already has slaves managed by pack",
     "output_type": "error",
     "traceback": [
      "\u001b[1;31m---------------------------------------------------------------------------\u001b[0m",
      "\u001b[1;31mTclError\u001b[0m                                  Traceback (most recent call last)",
      "Cell \u001b[1;32mIn[79], line 31\u001b[0m\n\u001b[0;32m     29\u001b[0m \u001b[38;5;66;03m# Search and Cancel Buttons\u001b[39;00m\n\u001b[0;32m     30\u001b[0m search_button \u001b[38;5;241m=\u001b[39m ctk\u001b[38;5;241m.\u001b[39mCTkButton(app, text\u001b[38;5;241m=\u001b[39m\u001b[38;5;124m\"\u001b[39m\u001b[38;5;124mSearch\u001b[39m\u001b[38;5;124m\"\u001b[39m, command\u001b[38;5;241m=\u001b[39mon_search)\n\u001b[1;32m---> 31\u001b[0m \u001b[43msearch_button\u001b[49m\u001b[38;5;241;43m.\u001b[39;49m\u001b[43mgrid\u001b[49m\u001b[43m(\u001b[49m\u001b[43mrow\u001b[49m\u001b[38;5;241;43m=\u001b[39;49m\u001b[38;5;241;43m2\u001b[39;49m\u001b[43m,\u001b[49m\u001b[43m \u001b[49m\u001b[43mcolumn\u001b[49m\u001b[38;5;241;43m=\u001b[39;49m\u001b[38;5;241;43m0\u001b[39;49m\u001b[43m,\u001b[49m\u001b[43m \u001b[49m\u001b[43mpadx\u001b[49m\u001b[38;5;241;43m=\u001b[39;49m\u001b[38;5;241;43m20\u001b[39;49m\u001b[43m,\u001b[49m\u001b[43m \u001b[49m\u001b[43mpady\u001b[49m\u001b[38;5;241;43m=\u001b[39;49m\u001b[43m(\u001b[49m\u001b[38;5;241;43m0\u001b[39;49m\u001b[43m,\u001b[49m\u001b[43m \u001b[49m\u001b[38;5;241;43m20\u001b[39;49m\u001b[43m)\u001b[49m\u001b[43m,\u001b[49m\u001b[43m \u001b[49m\u001b[43msticky\u001b[49m\u001b[38;5;241;43m=\u001b[39;49m\u001b[38;5;124;43m\"\u001b[39;49m\u001b[38;5;124;43mw\u001b[39;49m\u001b[38;5;124;43m\"\u001b[39;49m\u001b[43m)\u001b[49m\n\u001b[0;32m     33\u001b[0m cancel_button \u001b[38;5;241m=\u001b[39m ctk\u001b[38;5;241m.\u001b[39mCTkButton(app, text\u001b[38;5;241m=\u001b[39m\u001b[38;5;124m\"\u001b[39m\u001b[38;5;124mCancel\u001b[39m\u001b[38;5;124m\"\u001b[39m, command\u001b[38;5;241m=\u001b[39mon_cancel)\n\u001b[0;32m     34\u001b[0m cancel_button\u001b[38;5;241m.\u001b[39mgrid(row\u001b[38;5;241m=\u001b[39m\u001b[38;5;241m2\u001b[39m, column\u001b[38;5;241m=\u001b[39m\u001b[38;5;241m1\u001b[39m, padx\u001b[38;5;241m=\u001b[39m\u001b[38;5;241m20\u001b[39m, pady\u001b[38;5;241m=\u001b[39m(\u001b[38;5;241m0\u001b[39m, \u001b[38;5;241m20\u001b[39m), sticky\u001b[38;5;241m=\u001b[39m\u001b[38;5;124m\"\u001b[39m\u001b[38;5;124mw\u001b[39m\u001b[38;5;124m\"\u001b[39m)\n",
      "File \u001b[1;32mc:\\Users\\User\\AppData\\Local\\Programs\\Python\\Python311\\Lib\\site-packages\\customtkinter\\windows\\widgets\\core_widget_classes\\ctk_base_class.py:321\u001b[0m, in \u001b[0;36mCTkBaseClass.grid\u001b[1;34m(self, **kwargs)\u001b[0m\n\u001b[0;32m    306\u001b[0m \u001b[38;5;250m\u001b[39m\u001b[38;5;124;03m\"\"\"\u001b[39;00m\n\u001b[0;32m    307\u001b[0m \u001b[38;5;124;03mPosition a widget in the parent widget in a grid. Use as options:\u001b[39;00m\n\u001b[0;32m    308\u001b[0m \u001b[38;5;124;03mcolumn=number - use cell identified with given column (starting with 0)\u001b[39;00m\n\u001b[1;32m   (...)\u001b[0m\n\u001b[0;32m    318\u001b[0m \u001b[38;5;124;03msticky=NSEW - if cell is larger on which sides will this widget stick to the cell boundary\u001b[39;00m\n\u001b[0;32m    319\u001b[0m \u001b[38;5;124;03m\"\"\"\u001b[39;00m\n\u001b[0;32m    320\u001b[0m \u001b[38;5;28mself\u001b[39m\u001b[38;5;241m.\u001b[39m_last_geometry_manager_call \u001b[38;5;241m=\u001b[39m {\u001b[38;5;124m\"\u001b[39m\u001b[38;5;124mfunction\u001b[39m\u001b[38;5;124m\"\u001b[39m: \u001b[38;5;28msuper\u001b[39m()\u001b[38;5;241m.\u001b[39mgrid, \u001b[38;5;124m\"\u001b[39m\u001b[38;5;124mkwargs\u001b[39m\u001b[38;5;124m\"\u001b[39m: kwargs}\n\u001b[1;32m--> 321\u001b[0m \u001b[38;5;28;01mreturn\u001b[39;00m \u001b[38;5;28;43msuper\u001b[39;49m\u001b[43m(\u001b[49m\u001b[43m)\u001b[49m\u001b[38;5;241;43m.\u001b[39;49m\u001b[43mgrid\u001b[49m\u001b[43m(\u001b[49m\u001b[38;5;241;43m*\u001b[39;49m\u001b[38;5;241;43m*\u001b[39;49m\u001b[38;5;28;43mself\u001b[39;49m\u001b[38;5;241;43m.\u001b[39;49m\u001b[43m_apply_argument_scaling\u001b[49m\u001b[43m(\u001b[49m\u001b[43mkwargs\u001b[49m\u001b[43m)\u001b[49m\u001b[43m)\u001b[49m\n",
      "File \u001b[1;32mc:\\Users\\User\\AppData\\Local\\Programs\\Python\\Python311\\Lib\\tkinter\\__init__.py:2549\u001b[0m, in \u001b[0;36mGrid.grid_configure\u001b[1;34m(self, cnf, **kw)\u001b[0m\n\u001b[0;32m   2534\u001b[0m \u001b[38;5;28;01mdef\u001b[39;00m \u001b[38;5;21mgrid_configure\u001b[39m(\u001b[38;5;28mself\u001b[39m, cnf\u001b[38;5;241m=\u001b[39m{}, \u001b[38;5;241m*\u001b[39m\u001b[38;5;241m*\u001b[39mkw):\n\u001b[0;32m   2535\u001b[0m \u001b[38;5;250m    \u001b[39m\u001b[38;5;124;03m\"\"\"Position a widget in the parent widget in a grid. Use as options:\u001b[39;00m\n\u001b[0;32m   2536\u001b[0m \u001b[38;5;124;03m    column=number - use cell identified with given column (starting with 0)\u001b[39;00m\n\u001b[0;32m   2537\u001b[0m \u001b[38;5;124;03m    columnspan=number - this widget will span several columns\u001b[39;00m\n\u001b[1;32m   (...)\u001b[0m\n\u001b[0;32m   2547\u001b[0m \u001b[38;5;124;03m                  widget stick to the cell boundary\u001b[39;00m\n\u001b[0;32m   2548\u001b[0m \u001b[38;5;124;03m    \"\"\"\u001b[39;00m\n\u001b[1;32m-> 2549\u001b[0m     \u001b[38;5;28;43mself\u001b[39;49m\u001b[38;5;241;43m.\u001b[39;49m\u001b[43mtk\u001b[49m\u001b[38;5;241;43m.\u001b[39;49m\u001b[43mcall\u001b[49m\u001b[43m(\u001b[49m\n\u001b[0;32m   2550\u001b[0m \u001b[43m          \u001b[49m\u001b[43m(\u001b[49m\u001b[38;5;124;43m'\u001b[39;49m\u001b[38;5;124;43mgrid\u001b[39;49m\u001b[38;5;124;43m'\u001b[39;49m\u001b[43m,\u001b[49m\u001b[43m \u001b[49m\u001b[38;5;124;43m'\u001b[39;49m\u001b[38;5;124;43mconfigure\u001b[39;49m\u001b[38;5;124;43m'\u001b[39;49m\u001b[43m,\u001b[49m\u001b[43m \u001b[49m\u001b[38;5;28;43mself\u001b[39;49m\u001b[38;5;241;43m.\u001b[39;49m\u001b[43m_w\u001b[49m\u001b[43m)\u001b[49m\n\u001b[0;32m   2551\u001b[0m \u001b[43m          \u001b[49m\u001b[38;5;241;43m+\u001b[39;49m\u001b[43m \u001b[49m\u001b[38;5;28;43mself\u001b[39;49m\u001b[38;5;241;43m.\u001b[39;49m\u001b[43m_options\u001b[49m\u001b[43m(\u001b[49m\u001b[43mcnf\u001b[49m\u001b[43m,\u001b[49m\u001b[43m \u001b[49m\u001b[43mkw\u001b[49m\u001b[43m)\u001b[49m\u001b[43m)\u001b[49m\n",
      "\u001b[1;31mTclError\u001b[0m: cannot use geometry manager grid inside . which already has slaves managed by pack"
     ]
    }
   ],
   "source": [
    "def on_search():\n",
    "    global search_thread\n",
    "    searchValue = entry1.get()\n",
    "    stopEvent.clear()\n",
    "    if searchValue:\n",
    "        search_thread = threading.Thread(target=fetch_products, args=(searchValue, stopEvent))\n",
    "        search_thread.start()\n",
    "\n",
    "def on_cancel():\n",
    "    stopEvent.set()\n",
    "    print(\"Canceling the process...\")\n",
    "\n",
    "app = ctk.CTk()\n",
    "app.geometry(\"400x250\")\n",
    "app.title(\"Search Interface\")\n",
    "\n",
    "entry_label = ctk.CTkLabel(app, text=\"Search Value:\")\n",
    "entry_label.pack(pady=0)\n",
    "entry1 = ctk.CTkEntry(app, width=300)\n",
    "entry1.insert(0, \"telefon\")\n",
    "entry1.pack(pady=10)\n",
    "\n",
    "entry_label = ctk.CTkLabel(app, text=\"Data Sku Value:\")\n",
    "entry_label.pack(pady=0)\n",
    "entry2 = ctk.CTkEntry(app, width=300)\n",
    "entry2.insert(0, \"TM-DG-SBP-1105-SM\")\n",
    "entry2.pack(pady=10)\n",
    "\n",
    "# Search and Cancel Buttons\n",
    "search_button = ctk.CTkButton(app, text=\"Search\", command=on_search)\n",
    "search_button.grid(row=2, column=0, padx=20, pady=(0, 20), sticky=\"w\")\n",
    "\n",
    "cancel_button = ctk.CTkButton(app, text=\"Cancel\", command=on_cancel)\n",
    "cancel_button.grid(row=2, column=1, padx=20, pady=(0, 20), sticky=\"w\")\n",
    "\n",
    "\n",
    "stopEvent = threading.Event()\n",
    "\n",
    "app.mainloop()\n"
   ]
  },
  {
   "cell_type": "code",
   "execution_count": null,
   "metadata": {},
   "outputs": [],
   "source": [
    "df = pd.DataFrame(productList, columns=[\"ID\", \"Məhsulun adı\", \"Məhsulun endirimsiz qiyməti\", \"Məhsulun nağd alışa endirimli qiyməti\", \"Məhsulun şəkil linki\"])"
   ]
  },
  {
   "cell_type": "code",
   "execution_count": null,
   "metadata": {},
   "outputs": [],
   "source": [
    "# Bütün datanın excel faylına extract olunması\n",
    "# Exrteacting all data to excel file\n",
    "with pd.ExcelWriter(\"dataframe.xlsx\", engine=\"xlsxwriter\") as dataframe:\n",
    "    df.to_excel(dataframe, sheet_name=\"sheet1\", index=False)\n",
    "    workbook = dataframe.book\n",
    "    worksheet = dataframe.sheets[\"sheet1\"]\n",
    "\n",
    "    for idx, col in enumerate(df.columns):\n",
    "        # cədvəldəki ən uzun data eninin tapılması\n",
    "        max_length = max(df[col].astype(str).map(len).max(), len(col)) + 2  # 2 padding dəyəri kimidi\n",
    "        worksheet.set_column(idx, idx, max_length)  # həmin uzunluğun header uzunluğu kimi təyini\n",
    "\n",
    "    # header format\n",
    "    header_format = workbook.add_format({\n",
    "        'align': 'left',\n",
    "        'bg_color': '#59788E',\n",
    "        'italic': True\n",
    "    })\n",
    "    for col_num, value in enumerate(df.columns.values):\n",
    "        worksheet.write(0, col_num, value, header_format)"
   ]
  }
 ],
 "metadata": {
  "kernelspec": {
   "display_name": "Python 3",
   "language": "python",
   "name": "python3"
  },
  "language_info": {
   "codemirror_mode": {
    "name": "ipython",
    "version": 3
   },
   "file_extension": ".py",
   "mimetype": "text/x-python",
   "name": "python",
   "nbconvert_exporter": "python",
   "pygments_lexer": "ipython3",
   "version": "3.11.3"
  }
 },
 "nbformat": 4,
 "nbformat_minor": 2
}
