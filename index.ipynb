{
 "cells": [
  {
   "cell_type": "code",
   "execution_count": null,
   "metadata": {},
   "outputs": [],
   "source": [
    "import requests\n",
    "from bs4 import BeautifulSoup\n",
    "import pandas as pd\n",
    "import xlsxwriter\n",
    "from openpyxl.styles import Font, Alignment, Border, Side, PatternFill\n",
    "import tkinter as tk\n",
    "import customtkinter as ctk\n",
    "import threading\n",
    "import time\n",
    "# pip install beautifulsoup\n",
    "# pip install requests\n",
    "# pip install pandas\n",
    "# pip install xlsxwriter"
   ]
  },
  {
   "cell_type": "code",
   "execution_count": null,
   "metadata": {},
   "outputs": [],
   "source": [
    "base_url=\"https://kontakt.az\"\n",
    "response = requests.get(base_url)\n",
    "productList = list()"
   ]
  },
  {
   "cell_type": "code",
   "execution_count": null,
   "metadata": {},
   "outputs": [],
   "source": [
    "def scrape_products(search_value, sku_value):\n",
    "    page = 1\n",
    "    print(f\"Starting search for '{search_value}' with SKU '{sku_value}'...\")\n",
    "    while page < 20:\n",
    "        url = f\"{base_url}/search/?p={page}&q={search_value}\"\n",
    "        response = requests.get(url)\n",
    "        soup = BeautifulSoup(response.content, \"html.parser\")\n",
    "        \n",
    "        productCards = soup.findAll(\"div\", attrs={\"class\": \"prodItem product-item\"})\n",
    "        for productCard in productCards:\n",
    "            sku = productCard.get(\"data-sku\")\n",
    "            if sku and sku_value in sku:\n",
    "                productId = productCard.get(\"id\")\n",
    "                productName = productCard.find(\"div\", attrs={\"class\": \"prodItem__title\"}).text.strip()\n",
    "                productPriceBox = productCard.find(\"div\", attrs={\"class\": \"prodItem__prices prodItem__prices--active\"})\n",
    "                productImage = productCard.find(\"img\", attrs={\"class\": \"product-image\"}).get(\"src\")\n",
    "                \n",
    "                originalPrice = productPriceBox.find(\"i\").text if productPriceBox.find(\"i\") else \"N/A\"\n",
    "                discountedPrice = productPriceBox.find(\"b\").text if productPriceBox.find(\"b\") else \"N/A\"\n",
    "                interestFreeTerm = productCard.find(\"span\").text if productCard.find(\"span\") else \"N/A\"\n",
    "\n",
    "                print(f\"name: {productName}\\nprice: {originalPrice}\\ndiscounted price: {discountedPrice}\\nimage link: {productImage}\\ninterestFreeTerm: {interestFreeTerm}\\n\")\n",
    "                productList.append([productId, productName, originalPrice, discountedPrice, productImage])\n",
    "        \n",
    "        page += 1\n",
    "        print(f\"Page {page} processed.\")\n",
    "    print(\"Search completed.\")\n"
   ]
  },
  {
   "cell_type": "code",
   "execution_count": null,
   "metadata": {},
   "outputs": [],
   "source": [
    "def on_search():\n",
    "    global search_thread\n",
    "    search_value = searchvalue.get()\n",
    "    sku_value = data_skuvalue.get()\n",
    "    if search_value and sku_value:\n",
    "        search_thread = threading.Thread(target=scrape_products, args=(search_value, sku_value))\n",
    "        search_thread.start()\n",
    "\n",
    "def on_cancel():\n",
    "    stopEvent.set()\n",
    "    print(\"Canceling the process...\")\n",
    "\n",
    "app = ctk.CTk()\n",
    "app.geometry(\"350x250\")\n",
    "app.title(\"Search Interface\")\n",
    "\n",
    "searchlabel = ctk.CTkLabel(app, text=\"Search Value:\")\n",
    "searchlabel.grid(row=0, padx=20, pady=5, sticky=\"w\")\n",
    "searchvalue = ctk.CTkEntry(app, width=300)\n",
    "searchvalue.insert(0, \"telefon\")\n",
    "searchvalue.grid(row=1, padx=20, pady=5)\n",
    "\n",
    "data_skulabel = ctk.CTkLabel(app, text=\"Data Sku Value:\")\n",
    "data_skulabel.grid(row=2, padx=20, pady=5, sticky=\"w\")\n",
    "data_skuvalue = ctk.CTkEntry(app, width=300)\n",
    "data_skuvalue.insert(0, \"TM-DG-SBP-1105-SM\")\n",
    "data_skuvalue.grid(row=3, padx=20, pady=5)\n",
    "\n",
    "search_button = ctk.CTkButton(app, text=\"Search\", command=on_search, width=300)\n",
    "search_button.grid(row=4, column=0, padx=20, pady=5, sticky=\"w\")\n",
    "\n",
    "cancel_button = ctk.CTkButton(app, text=\"Cancel\", command=on_cancel, width=300)\n",
    "cancel_button.grid(row=5, column=0, padx=20, pady=5, sticky=\"w\")\n",
    "\n",
    "stopEvent = threading.Event()\n",
    "\n",
    "app.mainloop()\n"
   ]
  },
  {
   "cell_type": "code",
   "execution_count": null,
   "metadata": {},
   "outputs": [],
   "source": [
    "df = pd.DataFrame(productList, columns=[\"ID\", \"Məhsulun adı\", \"Məhsulun endirimsiz qiyməti\", \"Məhsulun nağd alışa endirimli qiyməti\", \"Məhsulun şəkil linki\"])"
   ]
  },
  {
   "cell_type": "code",
   "execution_count": null,
   "metadata": {},
   "outputs": [],
   "source": [
    "# Bütün datanın excel faylına extract olunması\n",
    "# Exrteacting all data to excel file\n",
    "with pd.ExcelWriter(\"dataframe.xlsx\", engine=\"xlsxwriter\") as dataframe:\n",
    "    df.to_excel(dataframe, sheet_name=\"sheet1\", index=False)\n",
    "    workbook = dataframe.book\n",
    "    worksheet = dataframe.sheets[\"sheet1\"]\n",
    "\n",
    "    for idx, col in enumerate(df.columns):\n",
    "        # cədvəldəki ən uzun data eninin tapılması\n",
    "        max_length = max(df[col].astype(str).map(len).max(), len(col)) + 2  # 2 padding dəyəri kimidi\n",
    "        worksheet.set_column(idx, idx, max_length)  # həmin uzunluğun header uzunluğu kimi təyini\n",
    "\n",
    "    # header format\n",
    "    header_format = workbook.add_format({\n",
    "        'align': 'left',\n",
    "        'bg_color': '#59788E',\n",
    "        'italic': True\n",
    "    })\n",
    "    for col_num, value in enumerate(df.columns.values):\n",
    "        worksheet.write(0, col_num, value, header_format)"
   ]
  }
 ],
 "metadata": {
  "kernelspec": {
   "display_name": "Python 3",
   "language": "python",
   "name": "python3"
  },
  "language_info": {
   "codemirror_mode": {
    "name": "ipython",
    "version": 3
   },
   "file_extension": ".py",
   "mimetype": "text/x-python",
   "name": "python",
   "nbconvert_exporter": "python",
   "pygments_lexer": "ipython3",
   "version": "3.11.3"
  }
 },
 "nbformat": 4,
 "nbformat_minor": 2
}
